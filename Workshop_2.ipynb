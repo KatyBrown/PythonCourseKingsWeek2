{
 "cells": [
  {
   "cell_type": "markdown",
   "metadata": {},
   "source": [
    "# Python Workshop Week 2: Conditions, Loops and Files"
   ]
  },
  {
   "cell_type": "markdown",
   "metadata": {},
   "source": [
    "Katy Brown\n",
    "\n",
    "kab84@cam.ac.uk"
   ]
  },
  {
   "cell_type": "markdown",
   "metadata": {},
   "source": [
    "After the workshop last week, you are now familiar with functions and variables."
   ]
  },
  {
   "cell_type": "markdown",
   "metadata": {},
   "source": [
    "We also covered the following types of variable:\n",
    "* string `str`\n",
    "* integer `int`\n",
    "* float `float`\n",
    "* boolean `bool`\n",
    "* list `list`\n",
    "* tuple `tuple`\n",
    "* dictionary `dict`"
   ]
  },
  {
   "cell_type": "markdown",
   "metadata": {},
   "source": [
    "We also covered using Python to perform simple arithmetic and True / False statements."
   ]
  },
  {
   "cell_type": "markdown",
   "metadata": {},
   "source": [
    "This week, the code examples will be in Jupyter but we'll use Spyder, a Python interactive development environment (**IDE**) to do the exercises."
   ]
  },
  {
   "cell_type": "markdown",
   "metadata": {},
   "source": [
    "In Spyder you have two windows - the **editor** and the **console**.\n",
    "\n",
    "The console is used to test out Python commands interactively.\n",
    "\n",
    "The editor is used to write longer bits of code or **scripts**."
   ]
  },
  {
   "cell_type": "markdown",
   "metadata": {},
   "source": [
    "**Exercise** - using the Spyder **console**\n",
    "* Create two integer variables\n",
    "* Add them together\n",
    "* Create a dictionary with your variables as the *values* and any two strings as *keys*\n",
    "* Compare your two variables to give a `True` and a `False` result"
   ]
  },
  {
   "cell_type": "markdown",
   "metadata": {},
   "source": [
    "This week we will cover more complex functions, then conditions and loops.\n",
    "\n",
    "Conditions and loops two most important parts of any programming language - once you understand these you can write code to do almost anything.\n",
    "\n",
    "We will then cover using Python to read and write files."
   ]
  },
  {
   "cell_type": "markdown",
   "metadata": {},
   "source": [
    "## Modules"
   ]
  },
  {
   "cell_type": "markdown",
   "metadata": {},
   "source": [
    "There are lots of things we can do with basic Python only, however there are hundreds of additional Python **modules**.  These are essentially sets of extra functions you can add to Python.\n",
    "\n",
    "Many additional modules are automatically included with all Python versions, and even more are included with Anaconda."
   ]
  },
  {
   "cell_type": "markdown",
   "metadata": {},
   "source": [
    "We add the functions from these modules to Python using the `import` command.\n",
    "\n",
    "For example, to import the `os` module."
   ]
  },
  {
   "cell_type": "code",
   "execution_count": null,
   "metadata": {},
   "outputs": [],
   "source": [
    "import os"
   ]
  },
  {
   "cell_type": "markdown",
   "metadata": {},
   "source": [
    "We can then access the functions from the random module by typing `os.functionname`."
   ]
  },
  {
   "cell_type": "code",
   "execution_count": null,
   "metadata": {},
   "outputs": [],
   "source": [
    "os.getcwd() # Returns the current working directory (the directory the notebook is saved in)"
   ]
  },
  {
   "cell_type": "code",
   "execution_count": null,
   "metadata": {},
   "outputs": [],
   "source": [
    "x = os.getcwd()\n",
    "os.listdir(x) # Lists the contents of the current directory"
   ]
  },
  {
   "cell_type": "markdown",
   "metadata": {},
   "source": [
    "**Exercise**\n",
    "\n",
    "In the **console** in Spyder, import the `math` module and use the `math.sqrt` function to find the square root of 144.\n",
    "\n",
    "*Bonus: Import the numpy module and use the `numpy.mean` function to find the mean of a list*"
   ]
  },
  {
   "cell_type": "markdown",
   "metadata": {},
   "source": [
    "## More Complex Functions"
   ]
  },
  {
   "cell_type": "markdown",
   "metadata": {},
   "source": [
    "All the functions we discussed last week (`print`, `type`, `sorted`, `len`) take a single variable as their input.\n",
    "\n",
    "However, it is common for functions to take multiple **arguments** instead - the function needs more than one piece of information.  These arguments are provided after the function name and separated by commas.\n",
    "\n",
    "Some arguments are required, others are optional."
   ]
  },
  {
   "cell_type": "markdown",
   "metadata": {},
   "source": [
    "For example, the `round` function rounds a float to a certain number of decimal places.\n",
    "\n",
    "If we just provide one argument, it will round to the default number of decimal places, zero."
   ]
  },
  {
   "cell_type": "code",
   "execution_count": null,
   "metadata": {},
   "outputs": [],
   "source": [
    "round(100.141041)"
   ]
  },
  {
   "cell_type": "markdown",
   "metadata": {},
   "source": [
    "However, if we add an additional argument after a comma we can specify the number of decimal places."
   ]
  },
  {
   "cell_type": "code",
   "execution_count": null,
   "metadata": {},
   "outputs": [],
   "source": [
    "round(100.141041, 2)"
   ]
  },
  {
   "cell_type": "markdown",
   "metadata": {},
   "source": [
    "The `help` function can help us with this."
   ]
  },
  {
   "cell_type": "code",
   "execution_count": null,
   "metadata": {},
   "outputs": [],
   "source": [
    "help(round)"
   ]
  },
  {
   "cell_type": "markdown",
   "metadata": {},
   "source": [
    "Arguments in square brackets are optional, the others are required.  So we have to pass `round` a float to round (`number`) and we can optionally pass it the number of decimal places to round to (`ndigits`)"
   ]
  },
  {
   "cell_type": "markdown",
   "metadata": {},
   "source": [
    "We can either use the order listed in the `help` function or provide the names of the arguments."
   ]
  },
  {
   "cell_type": "code",
   "execution_count": null,
   "metadata": {},
   "outputs": [],
   "source": [
    "another_rounded_number = round(ndigits=4, number=5.12341234)"
   ]
  },
  {
   "cell_type": "markdown",
   "metadata": {},
   "source": [
    "The `randint` function from the `random` module generates a random integer between two values."
   ]
  },
  {
   "cell_type": "code",
   "execution_count": null,
   "metadata": {},
   "outputs": [],
   "source": [
    "import random"
   ]
  },
  {
   "cell_type": "markdown",
   "metadata": {},
   "source": [
    "This function needs two pieces of information:\n",
    "* The minimum value\n",
    "* The maximum value\n",
    "\n",
    "This function therefore has two required arguments.\n",
    "\n",
    "The `help` function tells us the order to provide this information."
   ]
  },
  {
   "cell_type": "code",
   "execution_count": null,
   "metadata": {},
   "outputs": [],
   "source": [
    "help(random.randint)"
   ]
  },
  {
   "cell_type": "markdown",
   "metadata": {},
   "source": [
    "This function expects first the minimum, which is referred to as `a`, then the maximum, referred to as `b`"
   ]
  },
  {
   "cell_type": "code",
   "execution_count": null,
   "metadata": {},
   "outputs": [],
   "source": [
    "a_random_integer = random.randint(3, 8)"
   ]
  },
  {
   "cell_type": "code",
   "execution_count": null,
   "metadata": {},
   "outputs": [],
   "source": [
    "print (a_random_integer)"
   ]
  },
  {
   "cell_type": "code",
   "execution_count": null,
   "metadata": {},
   "outputs": [],
   "source": [
    "another_random_integer = random.randint(a=10, b=50)"
   ]
  },
  {
   "cell_type": "code",
   "execution_count": null,
   "metadata": {},
   "outputs": [],
   "source": [
    "print(another_random_integer)"
   ]
  },
  {
   "cell_type": "markdown",
   "metadata": {},
   "source": [
    "**Exercise**\n",
    "\n",
    "Look at the help page for the `sample` function from the `random` module (`random.sample`).\n",
    "\n",
    "In the **console** in Spyder, try to run this function and provide the two arguments it needs in the order specified in the help.\n",
    "\n",
    "*Hint - population should be a list and k should be an integer*\n",
    "\n",
    "*Bonus: Provide the arguments to the function in a different order, using their names to tell Python which is which*"
   ]
  },
  {
   "cell_type": "markdown",
   "metadata": {},
   "source": [
    "## Conditions"
   ]
  },
  {
   "cell_type": "markdown",
   "metadata": {},
   "source": [
    "Conditions are an important part of programming in any language."
   ]
  },
  {
   "cell_type": "markdown",
   "metadata": {},
   "source": [
    "These allow you to have parts of your program which only run under some conditions but not others."
   ]
  },
  {
   "cell_type": "markdown",
   "metadata": {},
   "source": [
    "Conditions are built by combining **if statements** with the True / False statements you learned about last week."
   ]
  },
  {
   "cell_type": "code",
   "execution_count": null,
   "metadata": {},
   "outputs": [],
   "source": [
    "x = 1\n",
    "print (x == 1)"
   ]
  },
  {
   "cell_type": "code",
   "execution_count": null,
   "metadata": {},
   "outputs": [],
   "source": [
    "if x == 1:\n",
    "    print (\"x is one\")"
   ]
  },
  {
   "cell_type": "markdown",
   "metadata": {},
   "source": [
    "If the statement is `True`, the code following the statement will be run."
   ]
  },
  {
   "cell_type": "code",
   "execution_count": null,
   "metadata": {},
   "outputs": [],
   "source": [
    "x = 2\n",
    "print (x == 2)"
   ]
  },
  {
   "cell_type": "code",
   "execution_count": null,
   "metadata": {},
   "outputs": [],
   "source": [
    "if x == 1:\n",
    "    print (\"x is one\")"
   ]
  },
  {
   "cell_type": "markdown",
   "metadata": {},
   "source": [
    "If the statement is `False`, nothing happens."
   ]
  },
  {
   "cell_type": "markdown",
   "metadata": {},
   "source": [
    "Python decides which code to run when the condition is met using **indentations**.\n",
    "\n",
    "In many languages it is encouraged to use indents to make your code easier to read, but in Python it is required."
   ]
  },
  {
   "cell_type": "code",
   "execution_count": null,
   "metadata": {},
   "outputs": [],
   "source": [
    "x = 2\n",
    "if x == 2:\n",
    "    print (\"This code is run when x is equal to 2\")\n",
    "    print (\"So is this code\")\n",
    "print (\"But this code runs whether x == 2 is True or False\")"
   ]
  },
  {
   "cell_type": "markdown",
   "metadata": {},
   "source": [
    "**Exercise**\n",
    "\n",
    "Change `x` to equal `3` in the above example and run it again."
   ]
  },
  {
   "cell_type": "markdown",
   "metadata": {},
   "source": [
    "**Exercise** - in the Spyder **editor**\n",
    "\n",
    "Write a statement which is `True` and then an `if` statement which prints something if it is `True`.\n",
    "\n",
    "Change the statement so it is `False` and run it the `if` statement again.\n",
    "\n",
    "Add another `print` statement at the end which runs regardless of whether the statement is `True` or `False`.\n",
    "\n",
    "*Bonus: Repeat this but include an `and` or `or` in your `if` statement.*\n",
    "\n",
    "*Bonus: Assign a boolean variable and use this in your `if` statement.*"
   ]
  },
  {
   "cell_type": "markdown",
   "metadata": {},
   "source": [
    "We make `if` statements more useful by combining them with `else` and `elif` (else if) statements."
   ]
  },
  {
   "cell_type": "markdown",
   "metadata": {},
   "source": [
    "`else` and `elif` can only be used after an `if` statement"
   ]
  },
  {
   "cell_type": "markdown",
   "metadata": {},
   "source": [
    "`else` runs the code when the `if` statement is not `True`"
   ]
  },
  {
   "cell_type": "code",
   "execution_count": null,
   "metadata": {},
   "outputs": [],
   "source": [
    "x = 1\n",
    "if x == 2:\n",
    "    print (\"x equals two\")\n",
    "else:\n",
    "    print (\"x doesn't equal two\")"
   ]
  },
  {
   "cell_type": "code",
   "execution_count": null,
   "metadata": {},
   "outputs": [],
   "source": [
    "x = 2\n",
    "if x == 2:\n",
    "    print (\"x equals two\")\n",
    "else:\n",
    "    print (\"x doesn't equal two\")"
   ]
  },
  {
   "cell_type": "markdown",
   "metadata": {},
   "source": [
    "`elif` is used when you want to make a chain of `if` statements - it is short for else if.\n",
    "\n",
    "If the first statement is `True` it will run, if it is `False` the following `elif` statement will be evaluated."
   ]
  },
  {
   "cell_type": "code",
   "execution_count": null,
   "metadata": {},
   "outputs": [],
   "source": [
    "x = 2\n",
    "if x == 1:\n",
    "    print (\"x equals one\")\n",
    "elif x == 2:\n",
    "    print (\"x equals two\")"
   ]
  },
  {
   "cell_type": "code",
   "execution_count": null,
   "metadata": {},
   "outputs": [],
   "source": [
    "x = \"hello\"\n",
    "if \"h\" in x:\n",
    "    print (\"yes\")\n",
    "elif \"y\" in x:\n",
    "    print (\"no\")"
   ]
  },
  {
   "cell_type": "code",
   "execution_count": null,
   "metadata": {},
   "outputs": [],
   "source": [
    "x = \"yello\"\n",
    "if \"h\" in x:\n",
    "    print (\"yes\")\n",
    "elif \"y\" in x:\n",
    "    print (\"no\")"
   ]
  },
  {
   "cell_type": "markdown",
   "metadata": {},
   "source": [
    "You can add `else` to the end of a series of `elif` statements to provide code to run if nothing else is `True`."
   ]
  },
  {
   "cell_type": "code",
   "execution_count": null,
   "metadata": {},
   "outputs": [],
   "source": [
    "x = [1, 2, 3]\n",
    "\n",
    "if type(x) == int:\n",
    "    print (\"x is an integer\")\n",
    "elif type(x) == float:\n",
    "    print (\"x is a float\")\n",
    "elif type(x) == tuple:\n",
    "    print (\"x is a tuple\")\n",
    "else:\n",
    "    print (\"x is not an integer, float or tuple\")"
   ]
  },
  {
   "cell_type": "code",
   "execution_count": null,
   "metadata": {},
   "outputs": [],
   "source": [
    "x = 1\n",
    "\n",
    "if type(x) == int:\n",
    "    print (\"x is an integer\")\n",
    "elif type(x) == float:\n",
    "    print (\"x is a float\")\n",
    "elif type(x) == tuple:\n",
    "    print (\"x is a tuple\")\n",
    "else:\n",
    "    print (\"x is not an integer, float or tuple\")"
   ]
  },
  {
   "cell_type": "code",
   "execution_count": null,
   "metadata": {},
   "outputs": [],
   "source": [
    "x = ((1, 2, 3))\n",
    "\n",
    "if type(x) == int:\n",
    "    print (\"x is an integer\")\n",
    "elif type(x) == float:\n",
    "    print (\"x is a float\")\n",
    "elif type(x) == tuple:\n",
    "    print (\"x is a tuple\")\n",
    "else:\n",
    "    print (\"x is not an integer, float or tuple\")"
   ]
  },
  {
   "cell_type": "markdown",
   "metadata": {},
   "source": [
    "It's important to remember that once there is a `True` statement, none of the following `elif` statements will be evalulated, so nothing will happen whether they are `True` or not."
   ]
  },
  {
   "cell_type": "code",
   "execution_count": null,
   "metadata": {},
   "outputs": [],
   "source": [
    "x = 1\n",
    "if type(x) == int:\n",
    "    print (\"x is an integer\")\n",
    "elif x == 1: # this is not evalulated because the previous statement is True\n",
    "    print (\"x is one\") "
   ]
  },
  {
   "cell_type": "markdown",
   "metadata": {},
   "source": [
    "However, if you use two `if` statements they will both be evaluated regardless of the result of the first one."
   ]
  },
  {
   "cell_type": "code",
   "execution_count": null,
   "metadata": {},
   "outputs": [],
   "source": [
    "x = 1\n",
    "if type(x) == int:\n",
    "    print (\"x is an integer\")\n",
    "if x == 1: # this is always evalulated\n",
    "    print (\"x is one\") "
   ]
  },
  {
   "cell_type": "markdown",
   "metadata": {},
   "source": [
    "**Exercise**\n",
    "\n",
    "Write a script in the Spyder editor using `if`, `elif` and `else` to do the following.\n",
    "* Print \"ONE\" if x is greater than 5\n",
    "* Print \"TWO\" if x is less than or equal to 5 but greater than 2\n",
    "* Print \"THREE\" if x is less than or equal to 2\n",
    "\n",
    "Run the script with three different values of x - `10`, `3` and `1`.\n",
    "\n",
    "*Bonus: Add a step to filter out non-integer values of x*\n",
    "\n",
    "*Bonus: Alter your script to add 1, 2 or 3 to the original value of x instead of printing a string.*"
   ]
  },
  {
   "cell_type": "markdown",
   "metadata": {},
   "source": [
    "## Loops"
   ]
  },
  {
   "cell_type": "markdown",
   "metadata": {},
   "source": [
    "A **loop** is used to repeat something lots of times.\n",
    "\n",
    "Loops are one of the main ways programming saves time compared to doing things manually - you can repeat the same action millions of times in a few seconds."
   ]
  },
  {
   "cell_type": "markdown",
   "metadata": {},
   "source": [
    "We define loops in Python using `for` or `while`.  Today we will focus on `for` loops, as these are more common."
   ]
  },
  {
   "cell_type": "markdown",
   "metadata": {},
   "source": [
    "With `for` loops we use the syntax `for x in y:`\n",
    "\n",
    "`y` represents an **iterable** - something containing a sequence of items.  This could be a list, tuple, dictionary or range (we'll cover ranges in a minute).\n",
    "\n",
    "`x` represents the current item in the iterable - so on each **iteration** of the loop, the value of `x` changes to the next thing in the iterable."
   ]
  },
  {
   "cell_type": "code",
   "execution_count": null,
   "metadata": {},
   "outputs": [],
   "source": [
    "y = [1, 2, 3, 4, 5]\n",
    "print (type(y))"
   ]
  },
  {
   "cell_type": "code",
   "execution_count": null,
   "metadata": {},
   "outputs": [],
   "source": [
    "for x in y:\n",
    "    print (\"The current value of x is:\", x)"
   ]
  },
  {
   "cell_type": "markdown",
   "metadata": {},
   "source": [
    "We can use any variable name instead of x and y."
   ]
  },
  {
   "cell_type": "code",
   "execution_count": null,
   "metadata": {},
   "outputs": [],
   "source": [
    "banana = ((1, \"some_text\", True))\n",
    "for pyjama in banana:\n",
    "    print (pyjama)"
   ]
  },
  {
   "cell_type": "markdown",
   "metadata": {},
   "source": [
    "With a dictionary, we automatically iterate through the **keys**."
   ]
  },
  {
   "cell_type": "code",
   "execution_count": null,
   "metadata": {},
   "outputs": [],
   "source": [
    "D = {\"a\": 100, \"b\": \"hello\", \"c\": 0.25}"
   ]
  },
  {
   "cell_type": "code",
   "execution_count": null,
   "metadata": {},
   "outputs": [],
   "source": [
    "for item in D:\n",
    "    print (D[item])"
   ]
  },
  {
   "cell_type": "markdown",
   "metadata": {},
   "source": [
    "**Exercise**\n",
    "\n",
    "Write a script in Jupyter to iterate through a list and print each item one by one.\n",
    "\n",
    "*Bonus: Repeat this action but with a dictionary.  Try printing the keys, the values, then both.*"
   ]
  },
  {
   "cell_type": "markdown",
   "metadata": {},
   "source": [
    "Instead of just printing the items, we can do things to them."
   ]
  },
  {
   "cell_type": "code",
   "execution_count": null,
   "metadata": {},
   "outputs": [],
   "source": [
    "my_list = [10, 20, 30, 40, 50, 60]\n",
    "for list_item in my_list:\n",
    "    print (list_item ** 2) # print list_item squared"
   ]
  },
  {
   "cell_type": "code",
   "execution_count": null,
   "metadata": {},
   "outputs": [],
   "source": [
    "my_list = [10, 20, 30, 40, 50, 60]\n",
    "y = 0\n",
    "for list_item in my_list:\n",
    "    y = y + list_item\n",
    "print (y)"
   ]
  },
  {
   "cell_type": "markdown",
   "metadata": {},
   "source": [
    "We can also store the results in a new variable - the easiest is a list."
   ]
  },
  {
   "cell_type": "code",
   "execution_count": null,
   "metadata": {},
   "outputs": [],
   "source": [
    "original_list = [10, 20, 30, 40]\n",
    "new_list = [] # This makes an empty list which we can use to store things\n",
    "for item in original_list:\n",
    "    new_list.append(item * 2) # add item * 2 to the new list\n",
    "print (new_list)"
   ]
  },
  {
   "cell_type": "markdown",
   "metadata": {},
   "source": [
    "**Exercise**\n",
    "\n",
    "Write a loop to take a list of numbers - `3`, `6`, `9`, `12`, iterate through them, add 100 to each value and store the output in a new list.\n",
    "\n",
    "*Bonus: Try storing the output in a dictionary with the input list as the keys and the output list as the values.*"
   ]
  },
  {
   "cell_type": "markdown",
   "metadata": {},
   "source": [
    "Sometimes we want to do something a fixed number of times rather than for each value in a specific iterable.\n",
    "\n",
    "For this we can use the `range` function."
   ]
  },
  {
   "cell_type": "markdown",
   "metadata": {},
   "source": [
    "`range(x, y, z)` is a function which produces a sequence of integers from `x` to `y`, with an interval of `z`.\n",
    "\n",
    "If you don't provide a value of `z`, the default is 1."
   ]
  },
  {
   "cell_type": "code",
   "execution_count": null,
   "metadata": {},
   "outputs": [],
   "source": [
    "my_range = range(0, 10)"
   ]
  },
  {
   "cell_type": "code",
   "execution_count": null,
   "metadata": {},
   "outputs": [],
   "source": [
    "for m in my_range:\n",
    "    print (m)"
   ]
  },
  {
   "cell_type": "code",
   "execution_count": null,
   "metadata": {},
   "outputs": [],
   "source": [
    "my_range = range(5, 9)\n",
    "for m in my_range:\n",
    "    print (m)"
   ]
  },
  {
   "cell_type": "code",
   "execution_count": null,
   "metadata": {},
   "outputs": [],
   "source": [
    "my_range = range(0, 10, 2)\n",
    "for m in my_range:\n",
    "    print (m)"
   ]
  },
  {
   "cell_type": "markdown",
   "metadata": {},
   "source": [
    "**Exercise**\n",
    "\n",
    "* Generate a range from 2 to 20, with an interval of 1 and print it using a loop.\n",
    "* Generate a range from 5 to 15 with an interval of 5 and print it using a loop.\n",
    "\n",
    "*Bonus: Generate a range which runs backwards from 10 to 0 with an interval of 1*"
   ]
  },
  {
   "cell_type": "markdown",
   "metadata": {},
   "source": [
    "We can use this range for lots of things, one of the most common is to generate an `index`, which we can then use to access items in a `list` or `tuple`.\n",
    "\n",
    "\n",
    "For example, we might have several lists with data in the same order."
   ]
  },
  {
   "cell_type": "code",
   "execution_count": null,
   "metadata": {},
   "outputs": [],
   "source": [
    "L1 = ['John', 12, 'Cambridge']\n",
    "L2 = ['Jim', 22, 'London']\n",
    "L3 = ['Mary', 20, 'Manchester']"
   ]
  },
  {
   "cell_type": "code",
   "execution_count": null,
   "metadata": {},
   "outputs": [],
   "source": [
    "for i in range(0, 3):\n",
    "    print (\"i = \", i)\n",
    "    print (L1[i], L2[i], L3[i])"
   ]
  },
  {
   "cell_type": "markdown",
   "metadata": {},
   "source": [
    "We also might just want to repeat an action lots of times without using an iterable."
   ]
  },
  {
   "cell_type": "markdown",
   "metadata": {},
   "source": [
    "For example, if we wanted to add up all the integers <= 100."
   ]
  },
  {
   "cell_type": "code",
   "execution_count": null,
   "metadata": {},
   "outputs": [],
   "source": [
    "x = 0\n",
    "for i in range(0, 101):\n",
    "    x = x + i"
   ]
  },
  {
   "cell_type": "code",
   "execution_count": null,
   "metadata": {},
   "outputs": [],
   "source": [
    "print (x)"
   ]
  },
  {
   "cell_type": "markdown",
   "metadata": {},
   "source": [
    "**Exercise**\n",
    "\n",
    "* Add up the square (`x**2`) of every number less than 1000 using a `for` loop and the `range` function.\n",
    "* Make two lists and access the values using an index and the `range` function\n",
    "\n",
    "*Bonus: Generate a for loop to calculate the \"factorial\" of 5 (i.e. 5x4x3x2x1).*"
   ]
  },
  {
   "cell_type": "markdown",
   "metadata": {},
   "source": [
    "## Combining `for` loops and `if` statements"
   ]
  },
  {
   "cell_type": "markdown",
   "metadata": {},
   "source": [
    "Now you know about `for` loops and `if` statements you have a lot of power to do things using Python.\n"
   ]
  },
  {
   "cell_type": "markdown",
   "metadata": {},
   "source": [
    "We will spend a bit of time on the following few examples."
   ]
  },
  {
   "cell_type": "markdown",
   "metadata": {},
   "source": [
    "### 21"
   ]
  },
  {
   "cell_type": "markdown",
   "metadata": {},
   "source": [
    "**Exercise**\n",
    "\n",
    "* Use a `for` loop to generate and print a range of integers from 1 to 21 (including 1 and 21)\n",
    "* Using a series of `if` and `else` statements, alter it to:\n",
    "\n",
    "    * Print \"abracadabra\" instead of the integer for numbers which are a multiple of three and five.  *Hint: to find out if a number is divisble by another number, using the modulo operator `%`: `if x % 3 == 0` = if the number is divisible by 3.*\n",
    "\n",
    "    * Print \"shazam\" instead of the integer for numbers which are only a multiple of three and not five.\n",
    "    \n",
    "    * Print \"hullaballoo\" instead of the integer for numbers which are only a multiple of five and not three.\n",
    "    \n",
    "*Bonus : Alter the `for` loop to print the square root of any integer which is divisible by 7, instead of the original value (using the `math.sqrt` function).*\n",
    "\n",
    "*Bonus : Alter the `for` loop to print \"hocus pocus\" if the square of the original integer is less than or equal to 100, **as well as** the text described above.*"
   ]
  },
  {
   "cell_type": "markdown",
   "metadata": {},
   "source": [
    "### Random Number Game"
   ]
  },
  {
   "cell_type": "markdown",
   "metadata": {},
   "source": [
    "To do this exercise we need one extra function and one extra Python command."
   ]
  },
  {
   "cell_type": "markdown",
   "metadata": {},
   "source": [
    "Inside a `for` loop, the `break` command stops the loop prematurely."
   ]
  },
  {
   "cell_type": "code",
   "execution_count": null,
   "metadata": {},
   "outputs": [],
   "source": [
    "for i in range(1, 10):\n",
    "    print (i)\n",
    "    if i == 4:\n",
    "        break"
   ]
  },
  {
   "cell_type": "markdown",
   "metadata": {},
   "source": [
    "The `input` function asks the user to input a value before continuing."
   ]
  },
  {
   "cell_type": "code",
   "execution_count": null,
   "metadata": {},
   "outputs": [],
   "source": [
    "x = input(\"What is your name? \")"
   ]
  },
  {
   "cell_type": "code",
   "execution_count": null,
   "metadata": {},
   "outputs": [],
   "source": [
    "print (\"Your name is\", x)"
   ]
  },
  {
   "cell_type": "markdown",
   "metadata": {},
   "source": [
    "**Exercise**\n",
    "We will generate a short game.\n",
    "\n",
    "* Python will generate a random number between one and ten.\n",
    "* The user gets 6 guesses to try to guess the number.\n",
    "* If the number is too high, `print` \"Too high!  Try again!\".\n",
    "* If the number is too low, `print` \"Too low! Try again!\".\n",
    "* If the number is correct, `print` \"Correct!\" and `break` the loop.\n",
    "* \n",
    "\n",
    "*Bonus: If the user runs out of tries `print` \"Too slow!  The answer is\" and the answer.  You will need to create an extra variable to keep track of if the attempt was a success or a failure*\n",
    "\n",
    "*Bonus: Add a second for loop around the first to allow the user three \"plays\" of the game.  `print` \"Attempt 1\" on the first try, \"Attempt 2\" on the second try, etc.*\n"
   ]
  },
  {
   "cell_type": "markdown",
   "metadata": {},
   "source": [
    "I will give you the first part of this code - copy it into your Spyder script.\n",
    "\n",
    "This code does the following:\n",
    "* Using the random.randint function from the random package, generate a random number between 1 and 10\n",
    "* Generate a for loop from 0 to 6 (to run the code 6 times)\n",
    "* On each iteration through the loop, ask the user to guess the number.\n"
   ]
  },
  {
   "cell_type": "code",
   "execution_count": null,
   "metadata": {},
   "outputs": [],
   "source": [
    "x = random.randint(1, 11)\n",
    "for i in range(0, 6):\n",
    "    val = int(input(\"Guess a number between 1 and 10:  \"))"
   ]
  },
  {
   "cell_type": "markdown",
   "metadata": {},
   "source": [
    "*NB: I have converted the varible generated by the `input` function from a string to an integer using the `int` function.*"
   ]
  },
  {
   "cell_type": "markdown",
   "metadata": {},
   "source": [
    "## Reading and Writing Files"
   ]
  },
  {
   "cell_type": "markdown",
   "metadata": {},
   "source": [
    "To understand reading and writing files in Python we have to learn another new concept - **methods**"
   ]
  },
  {
   "cell_type": "markdown",
   "metadata": {},
   "source": [
    "Methods are very similar to functions.\n",
    "There are two main differences:\n",
    "* Methods are usually used on a single type of variable\n",
    "* Methods names are provided after, instead of before the variable name, seperated by a `.`"
   ]
  },
  {
   "cell_type": "markdown",
   "metadata": {},
   "source": [
    "We already know two methods: the `append` and `pop` methods for lists."
   ]
  },
  {
   "cell_type": "code",
   "execution_count": null,
   "metadata": {},
   "outputs": [],
   "source": [
    "L = ['a', 'b', 'c']"
   ]
  },
  {
   "cell_type": "code",
   "execution_count": null,
   "metadata": {},
   "outputs": [],
   "source": [
    "print (L)"
   ]
  },
  {
   "cell_type": "code",
   "execution_count": null,
   "metadata": {},
   "outputs": [],
   "source": [
    "L.append('d')"
   ]
  },
  {
   "cell_type": "code",
   "execution_count": null,
   "metadata": {},
   "outputs": [],
   "source": [
    "print (L)"
   ]
  },
  {
   "cell_type": "code",
   "execution_count": null,
   "metadata": {},
   "outputs": [],
   "source": [
    "L.pop()"
   ]
  },
  {
   "cell_type": "code",
   "execution_count": null,
   "metadata": {},
   "outputs": [],
   "source": [
    "print (L)"
   ]
  },
  {
   "cell_type": "markdown",
   "metadata": {},
   "source": [
    "There are hundreds of methods for different types of variables."
   ]
  },
  {
   "cell_type": "markdown",
   "metadata": {},
   "source": [
    "## Reading Files"
   ]
  },
  {
   "cell_type": "markdown",
   "metadata": {},
   "source": [
    "The simplest way to read an input file is using the `open` function and the `readlines` method.\n",
    "This reads the whole file into memory - it is only suitable for relatively short files (maybe less than a million lines).\n",
    "\n",
    "The `open` function opens a file to either read or write.\n",
    "The `readlines` method reads all the lines in the open file into a `list`."
   ]
  },
  {
   "cell_type": "markdown",
   "metadata": {},
   "source": [
    "I have provided you with a file called \"List1.txt\"."
   ]
  },
  {
   "cell_type": "code",
   "execution_count": null,
   "metadata": {},
   "outputs": [],
   "source": [
    "lines = open(\"List1.txt\").readlines()"
   ]
  },
  {
   "cell_type": "code",
   "execution_count": null,
   "metadata": {},
   "outputs": [],
   "source": [
    "print (lines)"
   ]
  },
  {
   "cell_type": "markdown",
   "metadata": {},
   "source": [
    "The `\\n` in this string is a \"line break\" character - Python doesn't know to interpret these as line breaks.\n",
    "\n",
    "We can remove them using a `for` loop and the `strip` method. "
   ]
  },
  {
   "cell_type": "code",
   "execution_count": null,
   "metadata": {},
   "outputs": [],
   "source": [
    "for line in lines:\n",
    "    line = line.strip()\n",
    "    print (line)"
   ]
  },
  {
   "cell_type": "markdown",
   "metadata": {},
   "source": [
    "Depending on what we are trying to do, we may be able to use this list directly.\n",
    "\n",
    "For example, if we wanted to find all the lines with an \"s\" in them."
   ]
  },
  {
   "cell_type": "code",
   "execution_count": null,
   "metadata": {},
   "outputs": [],
   "source": [
    "for line in lines:\n",
    "    line = line.strip()\n",
    "    if \"s\" in line:\n",
    "        print (line)"
   ]
  },
  {
   "cell_type": "markdown",
   "metadata": {},
   "source": [
    "We can also use indices to access parts of the list.\n",
    "\n",
    "To get the first line in the file:"
   ]
  },
  {
   "cell_type": "code",
   "execution_count": null,
   "metadata": {},
   "outputs": [],
   "source": [
    "lines[0].strip()"
   ]
  },
  {
   "cell_type": "markdown",
   "metadata": {},
   "source": [
    "To get the last line in the file:"
   ]
  },
  {
   "cell_type": "code",
   "execution_count": null,
   "metadata": {},
   "outputs": [],
   "source": [
    "lines[-1].strip()"
   ]
  },
  {
   "cell_type": "markdown",
   "metadata": {},
   "source": [
    "**Exercise**\n",
    "* Read the file \"List2.txt\" into a variable\n",
    "* Loop through the file and remove the line break characters\n",
    "* Print the second line in the file\n",
    "* Print the last line in the file\n",
    "* Print all the lines with the word \"the\" in them."
   ]
  },
  {
   "cell_type": "markdown",
   "metadata": {},
   "source": [
    "## Writing Files"
   ]
  },
  {
   "cell_type": "markdown",
   "metadata": {},
   "source": [
    "To write a file, we first need to open it with the `open` function."
   ]
  },
  {
   "cell_type": "code",
   "execution_count": null,
   "metadata": {},
   "outputs": [],
   "source": [
    "output = open(\"List3.txt\", \"w\")"
   ]
  },
  {
   "cell_type": "code",
   "execution_count": null,
   "metadata": {},
   "outputs": [],
   "source": [
    "output.write(\"Hello\")"
   ]
  },
  {
   "cell_type": "markdown",
   "metadata": {},
   "source": [
    "You always need to rememeber to close the output file when you've finished writing to it, using the `close` method."
   ]
  },
  {
   "cell_type": "code",
   "execution_count": null,
   "metadata": {},
   "outputs": [],
   "source": [
    "output.close()"
   ]
  },
  {
   "cell_type": "markdown",
   "metadata": {},
   "source": [
    "We can only write strings to our output file, and we also need to provide all the formatting characters such as line breaks and tab characters, as nothing will be added automatically."
   ]
  },
  {
   "cell_type": "markdown",
   "metadata": {},
   "source": [
    "The cleanest way to do this is using **string formatting**.\n",
    "\n",
    "With string formatting, we use the following symbols to represent different types of variable:\n",
    "* `%s` string\n",
    "* `%i` integer\n",
    "* `%.2f` float (2 is the number of decimal places)\n",
    "\n",
    "We insert these characters into a text string, then list the values we want to replace them with afterwards in brackets and seperated by commas."
   ]
  },
  {
   "cell_type": "code",
   "execution_count": null,
   "metadata": {},
   "outputs": [],
   "source": [
    "x = 'string'\n",
    "y = 5\n",
    "z = 1.00\n",
    "my_string = 'This %s contains %i integers and %.2f floats' % (x, y, z)"
   ]
  },
  {
   "cell_type": "code",
   "execution_count": null,
   "metadata": {},
   "outputs": [],
   "source": [
    "print (my_string)"
   ]
  },
  {
   "cell_type": "code",
   "execution_count": null,
   "metadata": {},
   "outputs": [],
   "source": [
    "a = 100\n",
    "b = 200\n",
    "c = 300\n",
    "\n",
    "my_string = \"Here are some integers: %i, %i, %i\" % (a, b, c)"
   ]
  },
  {
   "cell_type": "code",
   "execution_count": null,
   "metadata": {},
   "outputs": [],
   "source": [
    "print (my_string)"
   ]
  },
  {
   "cell_type": "markdown",
   "metadata": {},
   "source": [
    "There are two important non-text characters we can include:\n",
    "* `\\n` is a line break\n",
    "* `\\t` is a tab"
   ]
  },
  {
   "cell_type": "code",
   "execution_count": null,
   "metadata": {},
   "outputs": [],
   "source": [
    "a = 100\n",
    "b = 200\n",
    "c = 300\n",
    "\n",
    "my_string = \"Here are some integers:\\t%i, %i\\nHere is another one:\\t%i\" % (a, b, c)"
   ]
  },
  {
   "cell_type": "code",
   "execution_count": null,
   "metadata": {},
   "outputs": [],
   "source": [
    "print (my_string)"
   ]
  },
  {
   "cell_type": "markdown",
   "metadata": {},
   "source": [
    "We can output this string directly into a file."
   ]
  },
  {
   "cell_type": "code",
   "execution_count": null,
   "metadata": {},
   "outputs": [],
   "source": [
    "output_file = open(\"String_output.txt\", \"w\")\n",
    "output_file.write(my_string)\n",
    "output_file.close()"
   ]
  },
  {
   "cell_type": "markdown",
   "metadata": {},
   "source": [
    "We can then put the output of our programs into a file."
   ]
  },
  {
   "cell_type": "code",
   "execution_count": null,
   "metadata": {},
   "outputs": [],
   "source": [
    "output_file = open(\"Square_numbers.txt\", \"w\")\n",
    "for i in range(0, 100):\n",
    "    i_squared = i**2\n",
    "    output_file.write(\"%i squared = %i\\n\" % (i, i_squared))\n",
    "output_file.close()"
   ]
  },
  {
   "cell_type": "markdown",
   "metadata": {},
   "source": [
    "We can also read a file, process it and write the results to another file."
   ]
  },
  {
   "cell_type": "code",
   "execution_count": null,
   "metadata": {},
   "outputs": [],
   "source": [
    "input_file = open(\"List_of_numbers.txt\").readlines()\n",
    "output_file = open(\"output_numbers.txt\", \"w\")\n",
    "\n",
    "for item in input_file:\n",
    "    item = int(item.strip())\n",
    "    output_file.write(\"%i squared = %i\\n\" % (item, item ** 2))\n",
    "output_file.close()"
   ]
  },
  {
   "cell_type": "markdown",
   "metadata": {},
   "source": [
    "**Exercise**\n",
    "* Read the \"List_of_numbers.txt\" file again, multiply each number by two and write it to an output file.\n",
    "* Generate a file containing the square root (using the `math.sqrt()` function) of all numbers up to 50\n",
    "\n",
    "*Bonus: Generate a file containing the square root of all numbers up to 50 only if they are multiples of 3*"
   ]
  },
  {
   "cell_type": "markdown",
   "metadata": {},
   "source": [
    "|**Term**|**Definition**|\n",
    "|--------------|------------------------------------------------------------------------------------|\n",
    "|**IDE**|Interactive development environment, a piece of software designed to make programming easier|\n",
    "|**console**|The interactive component of an IDE|\n",
    "|**editor**|The static component of an IDE|\n",
    "|**module**|A set of additional functions you can import into Python|\n",
    "|**argument**|A varible or another piece of information passed to a function|\n",
    "|**if statement**|A clause which only runs a piece of code when the following statement is `True`|\n",
    "|**loop**|A programming construct used to repeat an action a number of times|\n",
    "|**iterable**|A variable containing a sequence of other variables (often a list, tuple, dictionary or range) which you can step through|\n",
    "|**range**|A sequence of integers|\n",
    "|**method**|A function which belongs to a specific variable type|\n",
    "|**string formatting**|A technique for adding your variables to a text-based output file|"
   ]
  },
  {
   "cell_type": "markdown",
   "metadata": {},
   "source": [
    "## Homework (optional)"
   ]
  },
  {
   "cell_type": "markdown",
   "metadata": {},
   "source": [
    "* Using a `for` loop, generate a file containing a list of numbers from 1 to 100.\n",
    "* Read this file into a `list` in Python.\n",
    "* Generate a new `list` containg only the even numbers (remember to convert them to integers using the `int` function)\n",
    "* Add 50 to each number in the new list \n",
    "* Open an output file and write \"x + 50 = y\" where x is the original value and y is the final value for each of the values in the list."
   ]
  },
  {
   "cell_type": "markdown",
   "metadata": {},
   "source": [
    "It would be great if you could fill in this feedback form, especially if there's any improvements you'd like to see next week."
   ]
  },
  {
   "cell_type": "markdown",
   "metadata": {},
   "source": [
    "https://katybrown2.typeform.com/to/zH0xoI"
   ]
  },
  {
   "cell_type": "code",
   "execution_count": null,
   "metadata": {},
   "outputs": [],
   "source": []
  }
 ],
 "metadata": {
  "kernelspec": {
   "display_name": "Python 3",
   "language": "python",
   "name": "python3"
  },
  "language_info": {
   "codemirror_mode": {
    "name": "ipython",
    "version": 3
   },
   "file_extension": ".py",
   "mimetype": "text/x-python",
   "name": "python",
   "nbconvert_exporter": "python",
   "pygments_lexer": "ipython3",
   "version": "3.6.3"
  }
 },
 "nbformat": 4,
 "nbformat_minor": 2
}
