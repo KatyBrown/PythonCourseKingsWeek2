{
 "cells": [
  {
   "cell_type": "code",
   "execution_count": 1,
   "metadata": {},
   "outputs": [],
   "source": [
    "import random\n",
    "import math"
   ]
  },
  {
   "cell_type": "markdown",
   "metadata": {},
   "source": [
    "# 21"
   ]
  },
  {
   "cell_type": "code",
   "execution_count": 2,
   "metadata": {},
   "outputs": [
    {
     "name": "stdout",
     "output_type": "stream",
     "text": [
      "1\n",
      "2\n",
      "shazam\n",
      "4\n",
      "hullaballoo\n",
      "shazam\n",
      "7\n",
      "8\n",
      "shazam\n",
      "hullaballoo\n",
      "11\n",
      "shazam\n",
      "13\n",
      "14\n",
      "abracadabra\n",
      "16\n",
      "17\n",
      "shazam\n",
      "19\n",
      "hullaballoo\n",
      "shazam\n"
     ]
    }
   ],
   "source": [
    "for i in range(1, 22):\n",
    "    if (i % 3 == 0 and i % 5 == 0):\n",
    "        print (\"abracadabra\")\n",
    "    elif i % 3 == 0:\n",
    "        print (\"shazam\")\n",
    "    elif i % 5 == 0:\n",
    "        print (\"hullaballoo\")\n",
    "    else:\n",
    "        print (i)"
   ]
  },
  {
   "cell_type": "markdown",
   "metadata": {},
   "source": [
    "# 21 plus Bonus"
   ]
  },
  {
   "cell_type": "code",
   "execution_count": 3,
   "metadata": {},
   "outputs": [
    {
     "name": "stdout",
     "output_type": "stream",
     "text": [
      "1\n",
      "2\n",
      "shazam\n",
      "4\n",
      "hullaballoo\n",
      "shazam\n",
      "2.6457513110645907\n",
      "8\n",
      "shazam\n",
      "hocus pocus\n",
      "hullaballoo\n",
      "hocus pocus\n",
      "11\n",
      "hocus pocus\n",
      "shazam\n",
      "hocus pocus\n",
      "13\n",
      "hocus pocus\n",
      "3.7416573867739413\n",
      "hocus pocus\n",
      "abracadabra\n",
      "hocus pocus\n",
      "16\n",
      "hocus pocus\n",
      "17\n",
      "hocus pocus\n",
      "shazam\n",
      "hocus pocus\n",
      "19\n",
      "hocus pocus\n",
      "hullaballoo\n",
      "hocus pocus\n",
      "shazam\n"
     ]
    }
   ],
   "source": [
    "for i in range(1, 22):\n",
    "    if i ** 2 >= 100:\n",
    "        print (\"hocus pocus\")\n",
    "    if (i % 3 == 0 and i % 5 == 0):\n",
    "        print (\"abracadabra\")\n",
    "    elif i % 3 == 0:\n",
    "        print (\"shazam\")\n",
    "    elif i % 5 == 0:\n",
    "        print (\"hullaballoo\")\n",
    "    elif i % 7 == 0:\n",
    "        print (math.sqrt(i))\n",
    "    else:\n",
    "        print (i)"
   ]
  },
  {
   "cell_type": "markdown",
   "metadata": {},
   "source": [
    "# Random Number Game"
   ]
  },
  {
   "cell_type": "code",
   "execution_count": 4,
   "metadata": {},
   "outputs": [
    {
     "name": "stdout",
     "output_type": "stream",
     "text": [
      "Guess a number between 1 and 10:  10\n",
      "Too high! Try again!\n",
      "Guess a number between 1 and 10:  6\n",
      "Too high! Try again!\n",
      "Guess a number between 1 and 10:  3\n",
      "Too high! Try again!\n",
      "Guess a number between 1 and 10:  1\n",
      "Too low!  Try again!\n",
      "Guess a number between 1 and 10:  2\n",
      "Correct!\n"
     ]
    }
   ],
   "source": [
    "x = random.randint(1, 11)\n",
    "for i in range(0, 6):\n",
    "    val = int(input(\"Guess a number between 1 and 10:  \"))\n",
    "    if val < x:\n",
    "        print (\"Too low!  Try again!\")\n",
    "    elif val > x:\n",
    "        print (\"Too high! Try again!\")\n",
    "    else:\n",
    "        print (\"Correct!\")\n",
    "        break"
   ]
  },
  {
   "cell_type": "markdown",
   "metadata": {},
   "source": [
    "# Random Number Game plus Bonus"
   ]
  },
  {
   "cell_type": "code",
   "execution_count": 6,
   "metadata": {},
   "outputs": [
    {
     "name": "stdout",
     "output_type": "stream",
     "text": [
      "Attempt  1\n",
      "Guess a number between 1 and 10:  4\n",
      "Too low!  Try again!\n",
      "Guess a number between 1 and 10:  5\n",
      "Too low!  Try again!\n",
      "Guess a number between 1 and 10:  6\n",
      "Too low!  Try again!\n",
      "Guess a number between 1 and 10:  7\n",
      "Too low!  Try again!\n",
      "Guess a number between 1 and 10:  8\n",
      "Too low!  Try again!\n",
      "Guess a number between 1 and 10:  9\n",
      "Correct!\n"
     ]
    }
   ],
   "source": [
    "x = random.randint(1, 11)\n",
    "g = False\n",
    "for j in range(0, 3):\n",
    "    print (\"Attempt \", j+1)\n",
    "    for i in range(0, 6):\n",
    "        val = int(input(\"Guess a number between 1 and 10:  \"))\n",
    "        if val < x:\n",
    "            print (\"Too low!  Try again!\")\n",
    "        elif val > x:\n",
    "            print (\"Too high! Try again!\")\n",
    "        else:\n",
    "            print (\"Correct!\")\n",
    "            g = True\n",
    "            break\n",
    "    if g is False:\n",
    "        print (\"Too slow!  Try again.\")\n",
    "    else:\n",
    "        break"
   ]
  },
  {
   "cell_type": "code",
   "execution_count": null,
   "metadata": {},
   "outputs": [],
   "source": []
  }
 ],
 "metadata": {
  "kernelspec": {
   "display_name": "Python 3",
   "language": "python",
   "name": "python3"
  },
  "language_info": {
   "codemirror_mode": {
    "name": "ipython",
    "version": 3
   },
   "file_extension": ".py",
   "mimetype": "text/x-python",
   "name": "python",
   "nbconvert_exporter": "python",
   "pygments_lexer": "ipython3",
   "version": "3.6.3"
  }
 },
 "nbformat": 4,
 "nbformat_minor": 2
}
